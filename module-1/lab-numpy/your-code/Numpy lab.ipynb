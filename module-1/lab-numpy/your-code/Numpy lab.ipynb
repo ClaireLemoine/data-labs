{
 "cells": [
  {
   "cell_type": "code",
   "execution_count": 207,
   "metadata": {},
   "outputs": [],
   "source": [
    "#1. Import the NUMPY package under the name np.\n",
    "\n",
    "import numpy as np"
   ]
  },
  {
   "cell_type": "code",
   "execution_count": 208,
   "metadata": {},
   "outputs": [
    {
     "data": {
      "text/plain": [
       "'1.16.2'"
      ]
     },
     "execution_count": 208,
     "metadata": {},
     "output_type": "execute_result"
    }
   ],
   "source": [
    "#2. Print the NUMPY version and the configuration.\n",
    "\n",
    "np.version.version"
   ]
  },
  {
   "cell_type": "code",
   "execution_count": 209,
   "metadata": {},
   "outputs": [],
   "source": [
    "#3. Generate a 2x3x5 3-dimensional array with random values. Assign the array to variable \"a\"\n",
    "# Challenge: there are at least three easy ways that use numpy to generate random arrays. How many ways can you find?\n",
    "\n",
    "a = np.random.random((2,3,5))"
   ]
  },
  {
   "cell_type": "code",
   "execution_count": 210,
   "metadata": {},
   "outputs": [
    {
     "name": "stdout",
     "output_type": "stream",
     "text": [
      "[[[0.43223912 0.2106153  0.94032    0.54407935 0.48576478]\n",
      "  [0.19218169 0.09834779 0.80607024 0.83592244 0.79643802]\n",
      "  [0.77108784 0.75337097 0.58326817 0.63103013 0.54264105]]\n",
      "\n",
      " [[0.35274303 0.87710348 0.43459389 0.44751853 0.74530258]\n",
      "  [0.07661819 0.91733485 0.09001211 0.24687658 0.40425915]\n",
      "  [0.04031079 0.65007358 0.24726343 0.70126607 0.76957378]]]\n"
     ]
    }
   ],
   "source": [
    "#4. Print a.\n",
    "\n",
    "print(a)    "
   ]
  },
  {
   "cell_type": "code",
   "execution_count": 211,
   "metadata": {},
   "outputs": [],
   "source": [
    "#5. Create a 5x2x3 3-dimensional array with all values equaling 1.\n",
    "#Assign the array to variable \"b\"\n",
    "\n",
    "b = np.random.random((5,2,3))\n",
    "b.fill(1)"
   ]
  },
  {
   "cell_type": "code",
   "execution_count": 212,
   "metadata": {},
   "outputs": [
    {
     "name": "stdout",
     "output_type": "stream",
     "text": [
      "[[[1. 1. 1.]\n",
      "  [1. 1. 1.]]\n",
      "\n",
      " [[1. 1. 1.]\n",
      "  [1. 1. 1.]]\n",
      "\n",
      " [[1. 1. 1.]\n",
      "  [1. 1. 1.]]\n",
      "\n",
      " [[1. 1. 1.]\n",
      "  [1. 1. 1.]]\n",
      "\n",
      " [[1. 1. 1.]\n",
      "  [1. 1. 1.]]]\n"
     ]
    }
   ],
   "source": [
    "print(b)"
   ]
  },
  {
   "cell_type": "code",
   "execution_count": 213,
   "metadata": {},
   "outputs": [
    {
     "data": {
      "text/plain": [
       "False"
      ]
     },
     "execution_count": 213,
     "metadata": {},
     "output_type": "execute_result"
    }
   ],
   "source": [
    "#7. Do a and b have the same size? How do you prove that in Python code?\n",
    "\n",
    "# ==> They don't\n",
    "a.shape==b.shape"
   ]
  },
  {
   "cell_type": "code",
   "execution_count": 214,
   "metadata": {},
   "outputs": [
    {
     "ename": "ValueError",
     "evalue": "operands could not be broadcast together with shapes (2,3,5) (5,2,3) ",
     "output_type": "error",
     "traceback": [
      "\u001b[1;31m---------------------------------------------------------------------------\u001b[0m",
      "\u001b[1;31mValueError\u001b[0m                                Traceback (most recent call last)",
      "\u001b[1;32m<ipython-input-214-e7b75e2c7819>\u001b[0m in \u001b[0;36m<module>\u001b[1;34m\u001b[0m\n\u001b[0;32m      3\u001b[0m \u001b[1;31m# ==> no, because they don't have the same shape\u001b[0m\u001b[1;33m\u001b[0m\u001b[1;33m\u001b[0m\u001b[1;33m\u001b[0m\u001b[0m\n\u001b[0;32m      4\u001b[0m \u001b[1;33m\u001b[0m\u001b[0m\n\u001b[1;32m----> 5\u001b[1;33m \u001b[0mnp\u001b[0m\u001b[1;33m.\u001b[0m\u001b[0madd\u001b[0m\u001b[1;33m(\u001b[0m\u001b[0ma\u001b[0m\u001b[1;33m,\u001b[0m\u001b[0mb\u001b[0m\u001b[1;33m)\u001b[0m\u001b[1;33m\u001b[0m\u001b[1;33m\u001b[0m\u001b[0m\n\u001b[0m",
      "\u001b[1;31mValueError\u001b[0m: operands could not be broadcast together with shapes (2,3,5) (5,2,3) "
     ]
    }
   ],
   "source": [
    "#8. Are you able to add a and b? Why or why not?\n",
    "\n",
    "# ==> no, because they don't have the same shape\n",
    "\n",
    "np.add(a,b)"
   ]
  },
  {
   "cell_type": "code",
   "execution_count": 215,
   "metadata": {},
   "outputs": [],
   "source": [
    "#9. Transpose b so that it has the same structure of a (i.e. become a 2x3x5 array). Assign the transposed array to varialbe \"c\".\n",
    "\n",
    "c=b.transpose(1,2,0)"
   ]
  },
  {
   "cell_type": "code",
   "execution_count": 216,
   "metadata": {},
   "outputs": [],
   "source": [
    "#10. Try to add a and c. Now it should work. Assign the sum to varialbe \"d\". But why does it work now?\n",
    "\n",
    "d=np.add(a,c)"
   ]
  },
  {
   "cell_type": "code",
   "execution_count": 217,
   "metadata": {},
   "outputs": [
    {
     "name": "stdout",
     "output_type": "stream",
     "text": [
      "array a =  [[[0.43223912 0.2106153  0.94032    0.54407935 0.48576478]\n",
      "  [0.19218169 0.09834779 0.80607024 0.83592244 0.79643802]\n",
      "  [0.77108784 0.75337097 0.58326817 0.63103013 0.54264105]]\n",
      "\n",
      " [[0.35274303 0.87710348 0.43459389 0.44751853 0.74530258]\n",
      "  [0.07661819 0.91733485 0.09001211 0.24687658 0.40425915]\n",
      "  [0.04031079 0.65007358 0.24726343 0.70126607 0.76957378]]]\n",
      "\n",
      "array d =  [[[1.43223912 1.2106153  1.94032    1.54407935 1.48576478]\n",
      "  [1.19218169 1.09834779 1.80607024 1.83592244 1.79643802]\n",
      "  [1.77108784 1.75337097 1.58326817 1.63103013 1.54264105]]\n",
      "\n",
      " [[1.35274303 1.87710348 1.43459389 1.44751853 1.74530258]\n",
      "  [1.07661819 1.91733485 1.09001211 1.24687658 1.40425915]\n",
      "  [1.04031079 1.65007358 1.24726343 1.70126607 1.76957378]]]\n",
      "\n",
      "1 has be added to all the value in a since b was composed with 1 only\n"
     ]
    }
   ],
   "source": [
    "#11. Print a and d. Notice the difference and relation of the two array in terms of the values? Explain.\n",
    "\n",
    "print(\"array a = \",a)\n",
    "print(\"\")\n",
    "print(\"array d = \",d)\n",
    "print(\"\")\n",
    "print(\"1 has be added to all the value in a since b was composed with 1 only\")"
   ]
  },
  {
   "cell_type": "code",
   "execution_count": 218,
   "metadata": {},
   "outputs": [],
   "source": [
    "#12. Multiply a and c. Assign the result to e.\n",
    "\n",
    "e=np.multiply(a,c)"
   ]
  },
  {
   "cell_type": "code",
   "execution_count": 219,
   "metadata": {},
   "outputs": [
    {
     "name": "stdout",
     "output_type": "stream",
     "text": [
      "no e must be equal to a since it's multiplyed 1\n"
     ]
    }
   ],
   "source": [
    "#13. Does e equal to a? Why or why not?\n",
    "\n",
    "print(\"no e must be equal to a since it's multiplyed 1\")\n"
   ]
  },
  {
   "cell_type": "code",
   "execution_count": 220,
   "metadata": {},
   "outputs": [
    {
     "name": "stdout",
     "output_type": "stream",
     "text": [
      "1.9403199969824894\n",
      "1.0403107907344293\n",
      "1.520807564505579\n"
     ]
    }
   ],
   "source": [
    "#14. Identify the max, min, and mean values in d. Assign those values to variables \"d_max\", \"d_min\", and \"d_mean\"\n",
    "\n",
    "d_max = np.max(d)\n",
    "d_min = np.min(d)\n",
    "d_mean = np.mean(d)\n",
    "\n",
    "print(d_max)\n",
    "print(d_min)\n",
    "print(d_mean)"
   ]
  },
  {
   "cell_type": "code",
   "execution_count": 221,
   "metadata": {},
   "outputs": [],
   "source": [
    "#15. Now we want to label the values in d. First create an empty array \"f\" with the same shape (i.e. 2x3x5) as d using `np.empty`.\n",
    "\n",
    "f=np.empty(d.shape)"
   ]
  },
  {
   "cell_type": "code",
   "execution_count": 226,
   "metadata": {},
   "outputs": [
    {
     "name": "stdout",
     "output_type": "stream",
     "text": [
      "[[[1.43223912 1.2106153  1.94032    1.54407935 1.48576478]\n",
      "  [1.19218169 1.09834779 1.80607024 1.83592244 1.79643802]\n",
      "  [1.77108784 1.75337097 1.58326817 1.63103013 1.54264105]]\n",
      "\n",
      " [[1.35274303 1.87710348 1.43459389 1.44751853 1.74530258]\n",
      "  [1.07661819 1.91733485 1.09001211 1.24687658 1.40425915]\n",
      "  [1.04031079 1.65007358 1.24726343 1.70126607 1.76957378]]]\n",
      "\n",
      "[[[ 25.  25. 100.  75.  25.]\n",
      "  [ 25.  25.  75.  75.  75.]\n",
      "  [ 75.  75.  75.  75.  75.]]\n",
      "\n",
      " [[ 25.  75.  25.  25.  75.]\n",
      "  [ 25.  75.  25.  25.  25.]\n",
      "  [  0.  75.  25.  75.  75.]]]\n"
     ]
    }
   ],
   "source": [
    "\"\"\"\n",
    "#16. Populate the values in f. For each value in d, if it's larger than d_min but smaller than d_mean, assign 25 to the corresponding value in f.\n",
    "If a value in d is larger than d_mean but smaller than d_max, assign 75 to the corresponding value in f.\n",
    "If a value equals to d_mean, assign 50 to the corresponding value in f.\n",
    "Assign 0 to the corresponding value(s) in f for d_min in d.\n",
    "Assign 100 to the corresponding value(s) in f for d_max in d.\n",
    "In the end, f should have only the following values: 0, 25, 50, 75, and 100.\n",
    "Note: you don't have to use Numpy in this question.\n",
    "\"\"\"\n",
    "\n",
    "for i in range(2):\n",
    "    for j in range (3):\n",
    "        for k in range (5):\n",
    "            temp_d=d[i][j][k]\n",
    "            temp_f=f[i][j][k]\n",
    "            if d_min<temp_d<d_mean:\n",
    "                temp_f=25\n",
    "            elif d_mean<temp_d<d_max:\n",
    "                temp_f=75\n",
    "            elif temp_d==d_mean:\n",
    "                temp_f=50\n",
    "            elif temp_d==d_min:\n",
    "                temp_f=0\n",
    "            elif temp_d==d_max:\n",
    "                temp_f=100\n",
    "\n",
    "print(d)\n",
    "print(\"\")\n",
    "print(f)"
   ]
  }
 ],
 "metadata": {
  "kernelspec": {
   "display_name": "Python 3",
   "language": "python",
   "name": "python3"
  },
  "language_info": {
   "codemirror_mode": {
    "name": "ipython",
    "version": 3
   },
   "file_extension": ".py",
   "mimetype": "text/x-python",
   "name": "python",
   "nbconvert_exporter": "python",
   "pygments_lexer": "ipython3",
   "version": "3.7.3"
  }
 },
 "nbformat": 4,
 "nbformat_minor": 2
}
