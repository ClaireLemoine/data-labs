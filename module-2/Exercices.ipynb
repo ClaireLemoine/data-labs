{
 "cells": [
  {
   "cell_type": "code",
   "execution_count": 9,
   "metadata": {},
   "outputs": [
    {
     "name": "stdout",
     "output_type": "stream",
     "text": [
      "What's you name ? Claire\n",
      "How old are you ? 35\n",
      "Claire, you'll be 100 yo in 2084.\n"
     ]
    }
   ],
   "source": [
    "name = input(\"What's you name ? \")\n",
    "age = int(input ('How old are you ? ')) # answer will be in string and needs to be changed integer to be able to calcul year\n",
    "year = ((2019 - age) + 100)\n",
    "print (f\"{name}, you'll be 100 yo in {year}.\")"
   ]
  },
  {
   "cell_type": "code",
   "execution_count": 20,
   "metadata": {},
   "outputs": [
    {
     "name": "stdout",
     "output_type": "stream",
     "text": [
      "Please give a number ? 18\n",
      "It's an even number\n"
     ]
    }
   ],
   "source": [
    "number = int(input('Please give a number ? '))\n",
    "left = number %2\n",
    "four = number %4\n",
    "\n",
    "if four ==0:\n",
    "    print(\"You've picked a multiple of 4\")\n",
    "elif left>0 :\n",
    "    print(\"It's an odd number\")\n",
    "elif left == 0:\n",
    "    print (\"It's an even number\")"
   ]
  },
  {
   "cell_type": "code",
   "execution_count": null,
   "metadata": {},
   "outputs": [],
   "source": []
  }
 ],
 "metadata": {
  "kernelspec": {
   "display_name": "Python 3",
   "language": "python",
   "name": "python3"
  },
  "language_info": {
   "codemirror_mode": {
    "name": "ipython",
    "version": 3
   },
   "file_extension": ".py",
   "mimetype": "text/x-python",
   "name": "python",
   "nbconvert_exporter": "python",
   "pygments_lexer": "ipython3",
   "version": "3.7.3"
  }
 },
 "nbformat": 4,
 "nbformat_minor": 2
}
