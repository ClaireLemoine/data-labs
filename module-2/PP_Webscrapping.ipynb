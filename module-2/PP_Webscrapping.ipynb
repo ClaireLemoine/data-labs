{
 "cells": [
  {
   "cell_type": "code",
   "execution_count": 1,
   "metadata": {},
   "outputs": [],
   "source": [
    "import json\n",
    "import requests as r\n",
    "import pandas as pd\n",
    "from pandas.io.json import json_normalize"
   ]
  },
  {
   "cell_type": "code",
   "execution_count": 2,
   "metadata": {},
   "outputs": [],
   "source": [
    "url='https://www.pornmd.com/geosearches?segment=tranny&continent=north_america&country=united_states'"
   ]
  },
  {
   "cell_type": "code",
   "execution_count": 3,
   "metadata": {},
   "outputs": [],
   "source": [
    "headers={'Cookie': 'SWLBSERVERID=ded1476; platform=desktop; pmd-bs-gl-id=d96cbede096b59f55d129c522a74373dkNW30ClpDc3K38jhqkLmkPexjJygq9rC; cdncss=1; searchType=videos; _ga=GA1.2.1260672951.1567170177; _gid=GA1.2.1176985479.1567170177; paginationOn=1; orientation=tranny; performance_timing=other; _gat=1; __atuvc=7%7C35; __atuvs=5d6928e10b9bbbd3002',\n",
    "'User-Agent': 'Mozilla/5.0 (Windows NT 10.0; Win64; x64) AppleWebKit/537.36 (KHTML, like Gecko) Chrome/76.0.3809.132 Safari/537.36',\n",
    "'X-Requested-With': 'XMLHttpRequest'}"
   ]
  },
  {
   "cell_type": "code",
   "execution_count": 4,
   "metadata": {},
   "outputs": [
    {
     "data": {
      "text/plain": [
       "<Response [200]>"
      ]
     },
     "execution_count": 4,
     "metadata": {},
     "output_type": "execute_result"
    }
   ],
   "source": [
    "# test\n",
    "response = r.get(url,headers=headers)\n",
    "response"
   ]
  },
  {
   "cell_type": "code",
   "execution_count": 5,
   "metadata": {},
   "outputs": [
    {
     "data": {
      "text/plain": [
       "['compilation',\n",
       " 'sissy',\n",
       " 'trap',\n",
       " 'shemale fucks guy',\n",
       " 'cumshot compilation',\n",
       " 'surprise',\n",
       " 'bailey jay',\n",
       " 'ts seduction',\n",
       " 'teen',\n",
       " 'ftm']"
      ]
     },
     "execution_count": 5,
     "metadata": {},
     "output_type": "execute_result"
    }
   ],
   "source": [
    "# get for 1 URL\n",
    "\n",
    "result=response.json()\n",
    "result"
   ]
  },
  {
   "cell_type": "code",
   "execution_count": 6,
   "metadata": {
    "scrolled": true
   },
   "outputs": [],
   "source": [
    "# create a loop to get all URL\n",
    "\n",
    "segment = ['tranny','straight','gay']\n",
    "continent = ['north_america','south_america','europe','asia','oceania','africa']\n",
    "country_na = ['united_states','canada','mexico']\n",
    "country_sa = ['venezuela','colombia','peru','brazil','chile','argentina']\n",
    "country_asia = ['turkey','syria','armenia','lebanon','israel','iraq','iran','afghanistan','pakistan','india','kazakhstan','china','thailand','vietnam','malaysia','indonesia','philippines','japan','korea']\n",
    "country_oceania = ['asutralia','new_zealand']\n",
    "country_africa = ['south_africa','nigeria','ghana','morocco','algeria','libya','egypt']\n",
    "country_europe = ['iceland','ireland','united_kingdom','spain','france','italy','switzerland','belgium','netherlands','germany','denmark','poland','austria','greece','romania','hungary','russia','ukraine','finland','sweden','norway','czech_rep.']\n",
    "\n",
    "url=[]\n",
    "\n",
    "for i in segment:\n",
    "    for j in continent:\n",
    "        if j==continent[0]:\n",
    "            for k in country_na:\n",
    "                url.append(f'https://www.pornmd.com/geosearches?segment={i}&period=quarter&continent={j}&country={k}')\n",
    "        elif j==continent[1]:\n",
    "            for k in country_sa:\n",
    "                url.append(f'https://www.pornmd.com/geosearches?segment={i}&period=quarter&continent={j}&country={k}')\n",
    "        elif j==continent[2]:\n",
    "            for k in country_europe:\n",
    "                url.append(f'https://www.pornmd.com/geosearches?segment={i}&period=quarter&continent={j}&country={k}')\n",
    "        elif j==continent[3]:\n",
    "            for k in country_asia:\n",
    "                url.append(f'https://www.pornmd.com/geosearches?segment={i}&period=quarter&continent={j}&country={k}')\n",
    "        elif j==continent[4]:\n",
    "            for k in country_oceania:\n",
    "                url.append(f'https://www.pornmd.com/geosearches?segment={i}&period=quarter&continent={j}&country={k}')\n",
    "        elif j==continent[5]:\n",
    "            for k in country_africa:\n",
    "                url.append(f'https://www.pornmd.com/geosearches?segment={i}&period=quarter&continent={j}&country={k}')"
   ]
  },
  {
   "cell_type": "code",
   "execution_count": 7,
   "metadata": {},
   "outputs": [
    {
     "name": "stdout",
     "output_type": "stream",
     "text": [
      "['compilation', 'sissy', 'trap', 'shemale fucks guy', 'cumshot compilation', 'surprise', 'bailey jay', 'ts seduction', 'teen', 'ftm']\n",
      "['compilation', 'sissy', 'trap', 'shemale fucks guy', 'cumshot compilation', 'teen', 'surprise', 'hypno', 'asian', 'shemale fuck girl']\n",
      "['compilation', 'mexico', 'beautiful', 'sissy', 'teen', 'shemale fucks guy', 'shemale fuck girl', 'surprise', 'trap', 'ladyboy']\n",
      "['gangbang', 'ts seduction', 'shemale', 'daisy taylor', 'monster cock', 'trans', 'babysitter', 'compilation', 'creampie', 'smoking']\n",
      "['colombia', 'smoking weed', 'compilation', 'porn videos', 'teen', 'shemale fucks guy', 'sissy', 'colombian', 'trap', 'femboy']\n",
      "['compilation', 'porno espanol', 'peru', 'snoodling', 'hypno', 'ebony', 'shemale shemale', 'trans', 'beautiful', 'shemale compilation']\n",
      "['compilation', 'brazilian', 'shemale', 'shemale fucks guy', 'asian', 'teen', 'sissy', 'beautiful', 'shemale fuck girl', 'surprise']\n",
      "['chile', 'shemale fucks guy', 'cosplay', 'compilation', 'anaconda', 'bailey jay', 'sissy', 'teen', 'beautiful', 'anal']\n",
      "['argentina', 'compilation', 'teen', 'cumshot compilation', 'shemale fucks guy', 'sissy', 'beautiful', 'shemale fuck girl', 'surprise', 'trap']\n",
      "['anal', 'compilation', 'amateur', 'shemale fuck girl', 'ts seduction', 'teen', 'shemale fucks guy', 'trap', 'thai ladyboy', 'crossdresser fuck']\n",
      "['compilation', 'sissy', 'shemale fucks guy', 'trap', 'joi', 'surprise', 'ts seduction', 'crossdresser', 'british', 'straight']\n",
      "['compilation', 'trap', 'sissy', 'shemale', 'teen', 'shemale fucks guy', 'cumshot compilation', 'ts seduction', 'surprise', 'asian']\n",
      "['compilation', 'shemale fucks guy', 'shemale fuck girl', 'teen', 'sissy', 'cumshot compilation', 'surprise', 'ts seduction', 'threesome', 'daisy taylor']\n",
      "['compilation', 'french', 'sissy', 'shemale fucks guy', 'shemale', 'teen', 'surprise', 'ladyboy', 'cumshot compilation', 'trap']\n",
      "['travestito italiano', 'compilation', 'italian', 'sissy', 'cumshot compilation', 'shemale fucks guy', 'amatoriale italiano', 'surprise', 'ts seduction', 'shemale fuck girl']\n",
      "['compilation', 'shemale fucks guy', 'cumshot compilation', 'sissy', 'teen', 'hypno', 'surprise', 'beautiful', 'ladyboy', 'shemale']\n",
      "['compilation', 'shemale fucks guy', 'sissy', 'surprise', 'teen', 'shemale fuck girl', 'trap', 'ladyboy', 'thai', 'ts seduction']\n",
      "['compilation', 'sissy', 'shemale', 'cumshot compilation', 'shemale fucks guy', 'teen', 'ts seduction', 'trap', 'shemale fuck girl', 'surprise']\n",
      "['compilation', 'sissy', 'german', 'teen', 'shemale fucks guy', 'cumshot compilation', 'anal', 'shemale', 'shemale fuck girl', 'ts seduction']\n",
      "['compilation', 'shemale', 'sissy', 'shemale fucks guy', 'transgender', 'teen', 'surprise', 'shemale fuck girl', 'ladyboy', 'cumshot compilation']\n",
      "['compilation', 'sissy', 'teen', 'crossdresser', 'shemale fucks guy', 'pmv', 'shemale fuck girl', 'trap', 'hypno', 'feminization']\n",
      "['compilation', 'sissy', 'latex', 'hypno', 'teen', 'shemale fucks guy', 'hentai', 'cumshot compilation', 'ts seduction', 'shemale']\n",
      "['greek', 'compilation', 'shemale', 'sissy', 'shemale fucks guy', 'teen', 'trap', 'surprise', 'ts seduction', 'shemale fuck girl']\n",
      "['compilation', 'sissy', 'shemale fuck girl', 'asian', 'shemale fucks guy', 'ts seduction', 'ladyboy', 'teen', 'surprise', 'beautiful']\n",
      "['sissy', 'compilation', 'trap', 'shemale fucks guy', 'femboy', 'teen', 'crossdresser', 'surprise', 'cumshot compilation', 'ladyboy']\n",
      "['futanari', 'compilation', 'sissy hypno rus', 'fnaf', 'my little pony', 'russian', 'sissy trainer rus', 'shemale', 'sissy', '3d porn']\n",
      "['compilation', 'sissy', 'teen', 'russian', 'cumshot compilation', 'prostate orgasm', 'crossdresser', 'joi', 'shemale fucks guy', 'trap']\n",
      "['sissy', 'compilation', 'joi', 'trap', 'teen', 'pmv', 'asian', 'hypno', 'shemale fucks guy', 'ladyboy']\n",
      "['compilation', 'sissy', 'shemale fucks guy', 'ladyboy', 'trap', 'teen', 'thai', 'swedish', 'ts seduction', 'shemale']\n",
      "['compilation', 'sissy', 'ladyboy', 'teen', 'shemale fucks guy', 'shemale', 'thai', 'trap', 'cumshot compilation', 'joi']\n",
      "['compilation', 'cartoon', 'sissy', 'futa', 'cumshot compilation', 'shemale fucks guy', 'chastity', 'futanari', '3d', 'shemale fuck girl']\n",
      "['el rio', 'compilation', 'teen', 'femboy', 'vicats', 'turkish', 'sissy', 'japanese', 'sperm drink glass', 'antonio suleiman']\n",
      "['antonio suleiman', 'ftm', 'vicats', 'compilation', 'shemale fuck girl', 'shemale fucks guy', 'eat own cum', 'solo compilation', 'teen shemale', 'shemale']\n",
      "['porno s jivotnimi', 'russian', 'shemale dominates guy', 'armyanski porno', 'shemale fucks guy', 'shemale female', 'trans', 'russia', 'domination', 'shemale shemale']\n",
      "['antonio suleiman', 'compilation', 'aubrey kate', 'lena kelly', 'ladyboy aor', 'arab', 'daisy taylor', 'shemale fuck girl', 'hot ts seduction cumshot', 'pussy hunter']\n",
      "['shemale', 'anal', 'compilation', 'sissy', 'shemale fucks guy', 'ladyboy', 'asian', 'ts seduction', 'straight', 'amateur']\n",
      "['antonio suleiman', 'asian', 'carol penelope', 'arab', 'vicats', 'smoking', 'shemale', 'morgan bailey', 'daisy taylor', 'ella hollywood']\n",
      "['edging challenge', 'daddy', 'trap', 'skinny', 'compilation', 'mariana cordoba', 'self suck', 'slave', 'ultimate edging challenge', 'smoking']\n",
      "['sissy', 'monster cock shemale', 'cumshot compilation', 'big black cock', 'gaping asshole', 'compilation', 'gloryhole', 'bi threesome', 'post op', 'black']\n",
      "['vicats', 'indian hijra sex', 'chanel santini', 'shemale fuck girl', 'shiri allwood', 'girl', 'bloodlust cerene', 'massage', 'natalie mars', 'hypno rus']\n",
      "['indian hijra sex', 'indian', 'vicats', 'indian shemale', 'shemale fuck girl', 'jessy dubai', 'trans', 'shemale', 'shemale fucks guy', 'sex']\n",
      "['crossdresser porno', 'jessy bells', 'vr', 'cum eating compilation', 'cumshot compilation', 'filipina', 'handjob cumshot compilation', 'shemale', 'trans dildo', 'sissy strapon']\n",
      "['jav', 'chinese', 'japanese', 'sfm', 'asmr', '3d', 'japanese futanari', 'asian', 'blacked', 'nier automata']\n",
      "['thai', 'asian', 'anal tap out', 'ladyboy', 'japanese', 'shemale', 'thai ladyboy', 'compilation', 'shemale fucks guy', 'big']\n",
      "['asian', 'chinese', 'thai', 'japanese', 'compilation', 'beautiful', 'hentai', 'black', 'thai ladyboy', 'vietnam']\n",
      "['cosplay', 'japanese', 'chinese', 'asian', 'thai', 'ella hollywood', 'ladyboy', 'shemale fuck girl', 'mom son', 'compilation']\n",
      "['indian hijra sex', 'indian', 'vicats', 'indian shemale', 'trans', 'shemale', 'jessy dubai', 'indian ladyboy', 'kinnar fuck videos 3gp', 'asian']\n",
      "['pinoy', 'filipino', 'pinay', 'filipina', 'asian', 'pinoy chupa', 'philippines ladyboy', 'ftm', 'straight', 'chastity']\n",
      "['japanese', 'asian', 'ftm', 'japanese crossdresser', 'japanese shemale', 'japan', 'post op', 'crossdresser', 'compilation', 'japanese ladyboy']\n",
      "['korean', 'japanese', 'japan', 'asian', 'chinese', 'korea', 'teen', 'japanese crossdresser', 'vicats', 'cute']\n",
      "{'australia': 'AU', 'new_zealand': 'NZ'}\n",
      "['compilation', 'sissy', 'shemale fuck girl', 'teen', 'trap', 'shemale fucks guy', 'ladyboy', 'threesome', 'daisy taylor', 'asian']\n",
      "['compilation', 'cumshot compilation', 'shemale fuck girl', 'sissy', 'black', 'futanari fantasy', 'teen', 'ftm', 'ts seduction', 'ebony']\n",
      "['asian', 'lesbian', 'cumshot compilation', 'compilation', 'trans', 'ebony', 'beautiful', 'yasmin lee', 'onion booty anal', 'big dick shemale']\n",
      "['black', 'ebony', 'ghana comx', 'black shemale', 'trans', 'ghana', 'cumshot compilation', 'tranny', 'bbw', 'sabrina suzuki']\n",
      "['antonio suleiman', 'compilation', 'shemale fuck girl', 'arab', 'chanel santini', 'sissy', 'daisy taylor', 'shemale', 'trap', 'shemale fucks guy']\n",
      "['shemale', 'antonio suleiman', 'chanel santini', 'daisy taylor', 'brazilian', 'vicats', 'aubrey kate', 'ts seduction', 'sarina valentina', 'jessy dubai']\n",
      "['antonio suleiman', 'daisy taylor', 'shecock', 'trans', 'lesbian shemale', 'ts pussyhunters', '3d family rules', 'sexo perro ahora', 'ts janelle fennec', 'futanaria']\n",
      "['antonio suleiman', 'daisy', 'shemale fuck girl', 'compilation', 'shemale fucks guy', 'arab', 'shemale', 'yasmin lee', 'jessy dubai', 'vicats']\n",
      "['step sister', 'compilation', 'teen', 'mom son', 'milf', 'creampie', 'anal', 'mom', 'threesome', 'sister']\n",
      "['step sister', 'compilation', 'mom son', 'teen', 'mom', 'milf', 'anal', 'creampie', '18', 'threesome']\n",
      "['watching porn video', 'mom son', 'step sister', 'porn videos', 'teen', 'sexmex', 'mexicanas', 'anal', 'compilation', 'milf']\n"
     ]
    },
    {
     "name": "stdout",
     "output_type": "stream",
     "text": [
      "['mia khalifa', 'porno ninas virgenes 12 anos', 'porn videos', 'candid shoeplay', 'watching porn video', 'teen', 'venezolana', 'venezuela', 'mom son', 'step sister']\n",
      "['colombianas', 'porn videos', 'watching porn video', 'colombia', 'colombianas jovencitas', 'colombiana', 'esperanza gomez', 'full movie', 'medellin', 'anal']\n",
      "['porn videos', 'peruanas', 'watching porn video', 'venezolana', 'peru', 'full movie', 'porno ninas virgenes 12 anos', 'anal', 'mom son', 'teen']\n",
      "['anal', 'teen', 'novinha', 'step sister', 'bengala', 'mom son', 'brazilian', 'brasileirinhas', '18', 'brasileiras']\n",
      "['chilena', 'chile', 'porn videos', 'watching porn video', 'full movie', 'mom son', 'omegle', 'anal', 'chilenas', 'compilation']\n",
      "['argentina', 'santichia', 'porn videos', 'pendejas argentinas', 'watching porn video', 'anal', 'famosas argentinas', 'mom son', 'teen', 'compilation']\n",
      "['iceland', 'step sister', 'casting', 'anal', 'mom son', 'teen', 'milf', 'icelandic', 'compilation', 'icelandic porn']\n",
      "['irish', 'compilation', 'step sister', 'mom son', 'amateur', 'teen', 'milf', 'creampie', 'lesbian', 'omegle']\n",
      "['compilation', 'mom son', 'teen', 'step sister', 'anal', 'mom', 'milf', '18', 'sister', 'creampie']\n",
      "['compilation', 'teen', 'mom son', 'step sister', 'anal', 'omegle', 'espanola', 'milf', 'spanish', 'amateur']\n",
      "['french', 'compilation', 'anal', 'teen', 'francaise', 'step sister', 'mom son', 'jacquie et michel', 'omegle', 'casting']\n",
      "['dialoghi italiano', 'italian', 'amatoriale italiano', 'compilation', 'mom son', 'italiana', 'teen', 'step sister', 'anal', 'milf']\n",
      "['compilation', 'teen', 'anal', 'german', 'swissfuckers', 'step sister', 'omegle', 'casting', 'mom son', 'czech']\n",
      "['step sister', 'compilation', 'omegle', 'teen', 'mom son', 'anal', 'french', 'milf', 'casting', 'mom']\n",
      "['dutch', 'omegle', 'step sister', 'mom son', 'compilation', 'teen', 'anal', 'casting', 'milf', 'sister']\n",
      "['german', 'deutsch', 'teen', 'compilation', 'anal', 'step sister', 'mom son', 'casting', 'omegle', 'mydirtyhobby']\n",
      "['danish', 'dansk', 'step sister', 'compilation', 'teen', 'anal', 'mom son', 'casting', 'omegle', 'milf']\n",
      "['polish', 'polska', 'teen', 'czech', 'casting', 'anal', 'mom son', 'compilation', 'step sister', 'omegle']\n",
      "['german', 'compilation', 'anal', 'teen', 'step sister', 'mom son', 'casting', 'deutsch', 'creampie', 'milf']\n",
      "['greek', 'greek sirina', 'mom son', 'anal', 'step sister', 'greece', 'teen', 'compilation', 'greek amateur', 'sirina']\n",
      "['romanian', 'mom son', 'romania', 'teen', 'step sister', 'anal', 'compilation', 'omegle', '18', 'milf']\n",
      "['mom son', 'liza diamond', 'magyar', 'teen', 'step sister', 'compilation', 'hungarian', 'anal', 'sister', 'mom']\n",
      "['teen', 'mom son', 'russian', 'anal', 'compilation', 'step sister', 'mihanika69', 'mihanika', '18', 'lesbian']\n",
      "['russian', 'anal', 'teen', 'mom son', 'compilation', 'step sister', 'cuckold', 'mom', 'milf', '18']\n",
      "['finnish', 'suomi', 'teen', 'step sister', 'anal', 'mom son', 'compilation', 'pov', 'milf', 'suomiporno']\n",
      "['swedish', 'step sister', 'omegle', 'teen', 'svensk', 'mom son', 'compilation', 'anal', 'milf', 'mom']\n",
      "['norwegian', 'norsk', 'step sister', 'compilation', 'teen', 'omegle', 'mom son', 'anal', 'milf', 'casting']\n",
      "['czech', 'compilation', 'mom son', 'erotica', 'teen', 'step sister', 'mom', 'latex', 'piss', 'omegle']\n",
      "['turkish', 'omegle', 'turk', 'mom son', '18', 'mom', 'step sister', 'teen', 'anal', 'turkce altyazili']\n",
      "['mom son', 'arab', 'lana rhoades', 'mom', 'etv roshana', 'sister', 'step sister', 'sex', 'publicagent', 'syrian']\n",
      "['armenian', 'haykakan', 'trampling', 'haykakan porno', 'armenian angela sargsyan', 'russian', 'haykakan sex mayr u txa', 'threesome', 'massage', 'blacked']\n",
      "['lebanese', 'mom son', 'lebanon', 'arab', 'mom', 'milf', 'step sister', 'brazzers', 'sister', 'compilation']\n",
      "['israeli', 'step sister', 'israel', 'anal', 'compilation', 'teen', 'mom son', 'omegle', 'casting', 'cuckold']\n",
      "['عراقي', 'kurdish', 'saya karim', 'iraq', 'iraqi', 'mom son', 'mom', 'سكس مصري', 'arab', '18']\n",
      "['bbc anal', 'teen', 'tickle', 'party', 'creampie compilation', 'japanese', 'creampie', 'step mom', 'tinder', 'threesome']\n",
      "['threesome', 'squirt compilation', 'mom son', 'afghan', 'step sister', 'massage', '18', 'riley reid', 'step mom', 'mom']\n",
      "['pakistani', 'mom son', 'indian', 'full movie', 'katrina kaif', 'sunny leone', 'mom', 'poonam pandey', 'hindi dubbed porn videos', '18']\n",
      "['indian', 'devar bhabhi sex', 'mom son', 'boltikahani', 'full movie', 'indian aunty', 'watching porn video', '18', 'desi', 'mom']\n",
      "['the galician', 'step sister', 'cumshot compilation', 'lot peeing', 'mature blonde', 'homemade anal creampie', 'piss', 'deutsch', 'mom son', 'saeko']\n",
      "['中国', 'chinese', '幼女', 'japanese', '萝 莉', '3d', '18', 'china', '强 奸', '乱 伦']\n",
      "['japanese', 'thai', 'japanese uncensored', '18', 'asian', 'teen', 'japan', 'korean', 'mlive', 'thai teen']\n",
      "['vietnam', 'yuino', 'japanese', 'viet nam', 'vietnamese', 'korean', 'phim sex viet nam', 'chinese', 'teen', 'jav']\n",
      "['chinese', 'melayu', 'malay', 'japanese', 'malaysia', 'asian', 'mom son', 'japanese uncensored', '中国', 'step sister']\n",
      "['devar bhabhi sex', 'indian', 'mom', 'mom son', 'boltikahani', 'full movie', 'indian aunty', 'watching porn video', 'indian school girl', '18']\n",
      "['pinay', 'pinay scandal', 'pinoy', 'filipina', 'mom son', 'pinay virgin', 'jakol', 'bagets', 'pinoy scandal', 'step sister']\n",
      "['japanese', 'japanese uncensored', 'hentai', 'asian', 'japanese wife', 'japan', 'japanese milf', 'japanese anal', 'chinese', 'japanese mature']\n",
      "['zotto', 'korean', 'korea', 'ama10', 'japanese', 'korean bj', '1090tv', 'c2joy', 'korean tv', 'korean teen']\n",
      "{'australia': 'AU', 'new_zealand': 'NZ'}\n",
      "['maori', 'compilation', 'step sister', 'anal', 'teen', 'mom son', 'omegle', 'milf', 'creampie compilation', 'amateur']\n",
      "['compilation', 'mom son', 'step sister', 'mzansi', 'teen', 'milf', '18', 'creampie compilation', 'ebony', 'indian']\n",
      "['nollywood', 'nigerian', 'abbey brooks', 'miosotis', 'waptrick xxx', 'ebony', 'african', 'lisa ann', 'nigeria', 'adrianna nicole']\n",
      "['ghana', 'waptrick xxx', 'sarah banks', 'ebony', 'african', 'cherokee d ass', '18', 'nollywood', 'fellarunitall', 'cherokee']\n",
      "['maroc', '9hab whatsapp maroc', 'marocaine', 'arab', 'morocco', '9hab maroc', 'anal', 'mom son', '9hab maroc choha', 'mom']\n",
      "['kabyle halouane', 'algerian', 'algerie', 'arab', 'mom son', 'algerienne', 'kahba algerienne', 'watching porn video', 'kabyle', 'mom']\n",
      "['sensational janine', 'arab', 'سكس مصري', 'mom son', 'lesbian slave', 'mom', 'libya', 'libyan', 'bbw', 'lesbian domination']\n",
      "['سكس مصري', 'خالد يوسف', 'منى فاروق', 'egyptian', 'egypt', 'arab', 'arabian boobie', 'mom son', 'mom', 'angela white']\n",
      "['gay', 'straight', 'daddy', 'bareback', 'black', 'grindr', 'breeding', 'straight friend', 'married', 'cruising']\n",
      "['gay', 'daddy', 'straight', 'bareback', 'breeding', 'grindr', 'asian', 'cruising', 'straight friend', 'public']\n",
      "['chacales', 'gay', 'chavito', 'maduros', 'mexicano', 'casados', 'chacal', 'taxista', 'mayate', 'hetero']\n",
      "['gay', 'maduros', 'venezuela', 'abuelos', 'caseros venezolanos', 'viejos', 'bareback', 'chacales', 'daddy', 'hetero']\n",
      "['gay', 'colombia', 'maduros', 'colombianos', 'bogota', 'medellin', 'daddy', 'latino', 'casero', 'colombian']\n",
      "['gay', 'peruano', 'maduros', 'peru', 'abuelos', 'chacales', 'daddy', 'viejos', 'maduro', 'lima']\n",
      "['gay', 'daddy', 'coroas', 'velhos', 'chubby', 'grandpa', 'chub', 'maduros', 'black', 'bareback']\n",
      "['chile', 'gay', 'chilenos', 'daddy', 'maduros', 'bareback', 'straight', 'hetero', 'cruising', 'chileno']\n",
      "['gay', 'maduros', 'argentinos', 'daddy', 'argentino', 'straight', 'viejos', 'abuelos', 'argentina', 'spy']\n",
      "['grindr', 'chubby', 'iceland', 'breeding', 'daddy', 'anon', 'gay', 'bareback', 'compilation', 'hairy raw furry orgy']\n",
      "['gay', 'straight', 'daddy', 'irish', 'grindr', 'bareback', 'cruising', 'breeding', 'married', 'twink']\n",
      "['gay', 'straight', 'daddy', 'bareback', 'black', 'asian', 'grindr', 'massage', 'breeding', 'cruising']\n",
      "['gay', 'daddy', 'maduros', 'straight', 'cruising', 'abuelos', 'bareback', 'grandpa', 'viejos', 'grindr']\n",
      "['gay', 'french', 'rebeu', 'straight', 'daddy', 'bareback', 'francais', 'arab', 'black', 'cruising']\n",
      "['gay', 'daddy', 'pompino', 'bareback', 'amatoriale italiano', 'straight', 'scopata', 'cruising', 'troia', 'amatoriale']\n",
      "['gay', 'bareback', 'daddy', 'straight', 'twink', 'cruising', 'czech hunter', 'piss', 'grindr', 'cumshot compilation']\n",
      "['gay', 'arab', 'daddy', 'straight', 'grindr', 'cruising', 'bareback', 'czech hunter', 'rebeu', 'spy']\n"
     ]
    },
    {
     "name": "stdout",
     "output_type": "stream",
     "text": [
      "['gay', 'daddy', 'bareback', 'dutch', 'straight', 'cruising', 'grindr', 'public', 'breeding', 'czech hunter']\n",
      "['bareback', 'gay', 'daddy', 'cruising', 'german', 'straight', 'public', 'grindr', 'czech hunter', 'breeding']\n",
      "['gay', 'daddy', 'bareback', 'danish', 'straight', 'breeding', 'public', 'grindr', 'cruising', 'fursuit']\n",
      "['gay', 'daddy', 'bareback', 'polska', 'straight', 'poland', 'spy', 'grindr', 'czech hunter', 'polish']\n",
      "['daddy', 'gay', 'cruising', 'straight', 'bareback', 'czech hunter', 'grindr', 'breeding', 'teen', 'poppers']\n",
      "['greek', 'greek gamisi', 'gay', 'daddy', 'gamisi', 'straight', 'fuck greek man man', 'greece', 'homemade greek', 'cruising']\n",
      "['romanian', 'gay', 'daddy', 'straight', 'bareback', 'romania', 'breeding', 'grindr', 'chubby', 'public']\n",
      "['gay', 'twink', 'bareback', 'massage', 'hungarian', 'public', 'straight', 'chubby', 'daddy', 'cruising']\n",
      "['russian kavkaz', 'russian', 'chub', 'russia', 'gay', 'daddy', 'fursuit', 'fnaf', 'chubby', 'bareback']\n",
      "['russian', 'chubby', 'muscle', 'chub', 'daddy', 'gay', 'hunk', 'fisting', 'smegma', 'bareback']\n",
      "['gay', 'daddy', 'bareback', 'chubby', 'breeding', 'fursuit', 'bear', 'grindr', 'finnish', 'straight']\n",
      "['swedish', 'gay', 'daddy', 'bareback', 'straight', 'breeding', 'cruising', 'grindr', 'twink', 'straight friend']\n",
      "['gay', 'daddy', 'bareback', 'czech hunter', 'norwegian', 'straight', 'grindr', 'breeding', 'cruising', 'grandpa']\n",
      "['gay', 'czech hunter', 'straight', 'czech', 'daddy', 'rubber', 'fursuit', 'cruising', 'massage', 'grindr']\n",
      "['turkish', 'daddy', 'piss', 'gay', 'public', 'spy pissing', 'teen familyadick', 'mature', 'arab', 'arab gay porn']\n",
      "['chubby', 'creampie', 'chub', 'bear', 'gay', 'syrian', 'lebanese', 'mormonboyz', 'arab', 'cum ass']\n",
      "['armenian', 'game', 'superchub', 'fat', 'ftm', 'public toilet', 'chubby', '18 geyer sex', 'russian', 'arab']\n",
      "['lebanese', 'gay', 'arab', 'syrian', 'cartoon', 'hunks', 'bear', 'daddy', 'lebanon', 'saudi']\n",
      "['gay', 'israeli', 'bareback', 'daddy', 'straight', 'arab', 'breeding', 'israel', 'spy', 'grindr']\n",
      "['kurdish', 'iraqi', 'gay', 'cartoon', 'iraq', 'arab', 'daddy', 'older4me', 'femboy', 'chub']\n",
      "['gay', 'latinos maduros gay', 'maduros mexicanos', 'egyptian', 'md porn search', 'breeding', 'tickle', 'calvin banks', 'cbt', 'camioneros']\n",
      "['asg', 'public', 'grindr', 'marine', 'asg spence', 'czech hunter', 'cheating', 'asg peter', 'military', 'straight friend']\n",
      "['pakistani', 'pathan', 'pakistani pathan sex', 'desi', 'paki', 'real father son sex', 'gay', 'pathan bacha', 'indian', 'pakistani grandpa']\n",
      "['desi', 'tamil', 'indian', 'real father son sex', 'indian gay', 'gay', 'kerala', 'chennai', 'daddy', 'punjabi']\n",
      "['bbc breeding', 'massive punk', 'gay', 'gordo caliente', 'menatplay com', 'east boys', 'overwatch', 'arab big dick', 'self suck while fucked', 'bear black']\n",
      "['chinese', 'billy herrington', 'asian', '日本 胖 子', 'gay', 'japanese', 'china', '中国', '熊', 'korean']\n",
      "['asian', 'thai', 'gay', 'japanese', 'japanese daddy', 'thai model', 'japanese old man', 'daddy', 'old japanese daddy', 'korean']\n",
      "['asian', 'japanese daddy', 'hoc sinh viet nam', 'ong gia', 'gay', 'daddy', 'japanese', 'japanese old man', 'chinese old man', 'japanese bear']\n",
      "['asian', 'daddy', 'malay', 'gay', 'japanese', 'old japanese daddy', 'chinese', 'melayu', 'massage', 'malaysia']\n",
      "['tamil', 'desi', 'indian', 'real father son sex', 'indian gay', 'punjabi', 'chennai', 'gay', 'kali deshmukh', 'indian daddy']\n",
      "['pinoy', 'bagets', 'jakol', 'gay', 'kantutan', 'kantot', 'asian', 'straight', 'pinoy chupa', 'pinoy scandal']\n",
      "['japanese', 'asian', 'japanese daddy', 'old japanese daddy', 'japan', 'japanese bear', 'japanese old man', 'daddy', 'japanese muscle', 'gay']\n",
      "['korean', 'asian', 'japanese', 'korean cam', 'japanese daddy', 'japanese old man', 'korean muscle', 'korea', 'gay', 'daddy']\n",
      "{'australia': 'AU', 'new_zealand': 'NZ'}\n",
      "['gay', 'maori', 'straight', 'bareback', 'daddy', 'samoan', 'asian', 'breeding', 'kiwi', 'indian']\n",
      "['gay', 'black', 'straight', 'bareback', 'breeding', 'daddy', 'black bareback', 'interracial', 'cruising', 'caught']\n",
      "['black', 'blacks', 'nigerian', 'gay', 'black muscle', 'nigeria', 'big black dick', 'krave melanin', 'black bareback', 'hotrod']\n",
      "['black', 'ghana', 'aaron trainer', 'nigerian', 'gay', 'grindr', 'black muscle', 'noirmale', 'interracial', 'daddy']\n",
      "['marocain', 'gay', 'arab', 'maroc', 'daddy', 'porno zwamel maroc vrais', 'moroccan', 'morocco', 'wheelchair', 'disabled']\n",
      "['algerie', 'algerian', 'sexe homme vs homme', 'gay', 'jeune garcon adolescent baise', 'arab', 'chubby', 'daddy', 'marocain', 'superchub']\n",
      "['chubby', 'superchub', 'chub', 'older4me', 'arab', 'gay', 'fat man', 'czechhunter com', 'o4m', '18']\n",
      "['arab', 'egyptian', 'egypt', 'chubby', 'gay', 'chub', 'daddy', 'footjob', 'hairy', 'bear']\n"
     ]
    }
   ],
   "source": [
    "for i in url:\n",
    "    response = r.get(i,headers=headers)\n",
    "    result=response.json()\n",
    "    print(result)"
   ]
  },
  {
   "cell_type": "code",
   "execution_count": 12,
   "metadata": {},
   "outputs": [
    {
     "name": "stdout",
     "output_type": "stream",
     "text": [
      "['arab', 'arab', 'arab', 'arab', 'egyptian', 'egyptian', 'egyptian', 'egyptian', 'egyptian', 'egyptian', 'egyptian', 'egyptian', 'egypt', 'egypt', 'egypt', 'egypt', 'egypt', 'chubby', 'chubby', 'chubby', 'chubby', 'chubby', 'chubby', 'gay', 'gay', 'gay', 'chub', 'chub', 'chub', 'chub', 'daddy', 'daddy', 'daddy', 'daddy', 'daddy', 'footjob', 'footjob', 'footjob', 'footjob', 'footjob', 'footjob', 'footjob', 'hairy', 'hairy', 'hairy', 'hairy', 'hairy', 'bear', 'bear', 'bear', 'bear']\n"
     ]
    }
   ],
   "source": [
    "list_cat=[]\n",
    "for i in result:\n",
    "    for j in i:\n",
    "        list_cat.append(i)\n",
    "print (list_cat)"
   ]
  },
  {
   "cell_type": "code",
   "execution_count": null,
   "metadata": {},
   "outputs": [],
   "source": []
  }
 ],
 "metadata": {
  "kernelspec": {
   "display_name": "Python 3",
   "language": "python",
   "name": "python3"
  },
  "language_info": {
   "codemirror_mode": {
    "name": "ipython",
    "version": 3
   },
   "file_extension": ".py",
   "mimetype": "text/x-python",
   "name": "python",
   "nbconvert_exporter": "python",
   "pygments_lexer": "ipython3",
   "version": "3.7.3"
  }
 },
 "nbformat": 4,
 "nbformat_minor": 2
}
